{
  "nbformat": 4,
  "nbformat_minor": 0,
  "metadata": {
    "colab": {
      "provenance": [],
      "authorship_tag": "ABX9TyOIkZCXm8WtZ3im7k+gGTxt",
      "include_colab_link": true
    },
    "kernelspec": {
      "name": "python3",
      "display_name": "Python 3"
    },
    "language_info": {
      "name": "python"
    }
  },
  "cells": [
    {
      "cell_type": "markdown",
      "metadata": {
        "id": "view-in-github",
        "colab_type": "text"
      },
      "source": [
        "<a href=\"https://colab.research.google.com/github/namitapashine/ClassRoom/blob/main/class4.ipynb\" target=\"_parent\"><img src=\"https://colab.research.google.com/assets/colab-badge.svg\" alt=\"Open In Colab\"/></a>"
      ]
    },
    {
      "cell_type": "code",
      "execution_count": 9,
      "metadata": {
        "colab": {
          "base_uri": "https://localhost:8080/"
        },
        "id": "d4wTnh_Vlk0J",
        "outputId": "0d96f904-aa14-40ef-eb3c-3f0395c7e6ab"
      },
      "outputs": [
        {
          "output_type": "stream",
          "name": "stdout",
          "text": [
            "Enter the number of rows:2\n",
            "*\n",
            "**\n"
          ]
        }
      ],
      "source": [
        "num=int(input(\"Enter the number of rows:\"))\n",
        "\n",
        "for i in range(0,num):\n",
        "  for j in range(0,i+1):\n",
        "    print('*', end=\"\")\n",
        "  print(\"\")"
      ]
    },
    {
      "cell_type": "markdown",
      "source": [
        "Program 2: to print following pattern\n",
        "***\n",
        "**\n",
        "*"
      ],
      "metadata": {
        "id": "jfJm2vhaieca"
      }
    },
    {
      "cell_type": "code",
      "source": [
        "num = int(input(\"Enter the number of rows:\"))\n",
        "\n",
        "for i in range(num, 0, -1):\n",
        "    for j in range(0, i):\n",
        "        print('*', end=\"\")\n",
        "    print(\"\")"
      ],
      "metadata": {
        "colab": {
          "base_uri": "https://localhost:8080/"
        },
        "id": "cjWX8wxXuNi_",
        "outputId": "16357ad4-e0bf-42c8-fad7-b7958ba0550a"
      },
      "execution_count": 20,
      "outputs": [
        {
          "output_type": "stream",
          "name": "stdout",
          "text": [
            "Enter the number of rows:3\n",
            "***\n",
            "**\n",
            "*\n"
          ]
        }
      ]
    },
    {
      "cell_type": "markdown",
      "source": [
        "Program3: to print following pattern\n",
        "1234\n",
        "123\n",
        "12\n",
        "1"
      ],
      "metadata": {
        "id": "hNNSIn4Dix4m"
      }
    },
    {
      "cell_type": "code",
      "source": [
        "num = int(input(\"Enter the number of rows:\"))\n",
        "\n",
        "for i in range(num+1):\n",
        "    for j in range(i):\n",
        "        print(j +1, end=\"\")\n",
        "    print(\"\")"
      ],
      "metadata": {
        "colab": {
          "base_uri": "https://localhost:8080/"
        },
        "id": "8kIOf--ay1WX",
        "outputId": "db0cce6a-ade0-4011-aae8-dfd0570a816a"
      },
      "execution_count": 6,
      "outputs": [
        {
          "output_type": "stream",
          "name": "stdout",
          "text": [
            "Enter the number of rows:7\n",
            "\n",
            "1\n",
            "12\n",
            "123\n",
            "1234\n",
            "12345\n",
            "123456\n",
            "1234567\n"
          ]
        }
      ]
    },
    {
      "cell_type": "code",
      "source": [],
      "metadata": {
        "colab": {
          "base_uri": "https://localhost:8080/"
        },
        "id": "QMpl6D0ivtxu",
        "outputId": "83c1f4d7-6741-4282-c04c-05e396010f81"
      },
      "execution_count": 19,
      "outputs": [
        {
          "name": "stdout",
          "output_type": "stream",
          "text": [
            "Enter the number of rows:3\n"
          ]
        }
      ]
    },
    {
      "cell_type": "markdown",
      "source": [],
      "metadata": {
        "id": "e4GVEUHZjM60"
      }
    }
  ]
}