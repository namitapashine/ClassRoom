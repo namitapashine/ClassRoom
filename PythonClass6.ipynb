{
  "nbformat": 4,
  "nbformat_minor": 0,
  "metadata": {
    "colab": {
      "provenance": [],
      "include_colab_link": true
    },
    "kernelspec": {
      "name": "python3",
      "display_name": "Python 3"
    },
    "language_info": {
      "name": "python"
    }
  },
  "cells": [
    {
      "cell_type": "markdown",
      "metadata": {
        "id": "view-in-github",
        "colab_type": "text"
      },
      "source": [
        "<a href=\"https://colab.research.google.com/github/namitapashine/ClassRoom/blob/main/PythonClass6.ipynb\" target=\"_parent\"><img src=\"https://colab.research.google.com/assets/colab-badge.svg\" alt=\"Open In Colab\"/></a>"
      ]
    },
    {
      "cell_type": "code",
      "execution_count": null,
      "metadata": {
        "id": "CCeBiIu1k6Yq"
      },
      "outputs": [],
      "source": []
    },
    {
      "cell_type": "markdown",
      "source": [
        "Assignment:Create a moving rating log using oops concept for rating the movies (you can use attributes like moviename, tory rating, actor rating, music rating and overall avg rating)"
      ],
      "metadata": {
        "id": "EdCsc9v7k_iX"
      }
    },
    {
      "cell_type": "code",
      "source": [
        "class MovieReview:\n",
        "   def __init__(self,movie,story,actors,music):\n",
        "    #movie name\n",
        "    self.movie_name=movie\n",
        "#ratings\n",
        "    self.story_rating=story\n",
        "    self.actor_rating=actors\n",
        "    self.music_rating=music\n",
        "\n",
        "    #average ratings\n",
        "\n",
        "    self.avg= int ((self.story_rating+self.actor_rating+self.music_rating)/3)\n",
        "\n",
        "    #movie info  dictionary\n",
        "    self.myrating={\n",
        "        \"Movie Name\":self.movie_name,\n",
        "        \"Story rating\":self.story_rating,\n",
        "        \"Actor Rating\":self.actor_rating,\n",
        "        \"Avg Rating\":self.avg\n",
        "    }\n",
        "\n",
        "   def add_movie_rating(self,movie_list):\n",
        "    movie_list.append(self.myrating)\n",
        "\n",
        "\n",
        "   def avg_star_ratings(self,movie_list):\n",
        "       for movie in movie_list:\n",
        "        if(movie[\"Avg Rating\"]==1):\n",
        "          print(\"You rated the movie with *\")\n",
        "          print(movie)\n",
        "        elif(movie[\"Avg Rating\"]==2):\n",
        "          print(\"You rated the movie with **\")\n",
        "          print(movie)\n",
        "        elif(movie[\"Avg Rating\"]==3):\n",
        "          print(\"You rated the movie with ***\")\n",
        "          print(movie)\n",
        "        elif(movie[\"Avg Rating\"]==4):\n",
        "          print(\"You rated the movie with ****\")\n",
        "          print(movie)\n",
        "        elif(movie[\"Avg Rating\"]==5):\n",
        "          print(\"You rated the movie with *****\")\n",
        "          print(movie)\n",
        "\n",
        "\n",
        "\n",
        "\n"
      ],
      "metadata": {
        "id": "ZGdX4gnTlKdG"
      },
      "execution_count": null,
      "outputs": []
    },
    {
      "cell_type": "code",
      "source": [
        "moviereviews=[]\n",
        "\n",
        "review1=MovieReview(\"Beautiful mind\", 2,2,4)\n",
        "review1.add_movie_rating(moviereviews)\n",
        "review1.avg_star_ratings(moviereviews)"
      ],
      "metadata": {
        "colab": {
          "base_uri": "https://localhost:8080/"
        },
        "id": "3ZjTfK3iqYOC",
        "outputId": "2f23ae99-2f0a-4836-a025-8b8826eba59b"
      },
      "execution_count": null,
      "outputs": [
        {
          "output_type": "stream",
          "name": "stdout",
          "text": [
            "You rated the movie with **\n",
            "{'Movie Name': 'Beautiful mind', 'Story rating': 2, 'Actor Rating': 2, 'Avg Rating': 2}\n"
          ]
        }
      ]
    },
    {
      "cell_type": "code",
      "source": [
        "review2=MovieReview(\"Good life\", 3,4,4)\n",
        "review2.add_movie_rating(moviereviews)\n",
        "review2.avg_star_ratings(moviereviews)"
      ],
      "metadata": {
        "colab": {
          "base_uri": "https://localhost:8080/"
        },
        "id": "PbpVZWWZvCVA",
        "outputId": "d7eabf6d-859b-4e9c-f74e-71f34648a3f7"
      },
      "execution_count": null,
      "outputs": [
        {
          "output_type": "stream",
          "name": "stdout",
          "text": [
            "You rated the movie with **\n",
            "{'Movie Name': 'Beautiful mind', 'Story rating': 2, 'Actor Rating': 2, 'Avg Rating': 2}\n",
            "You rated the movie with ***\n",
            "{'Movie Name': 'Good life', 'Story rating': 3, 'Actor Rating': 4, 'Avg Rating': 3}\n"
          ]
        }
      ]
    },
    {
      "cell_type": "code",
      "source": [
        "review3=MovieReview(\"Smiley\", 5,5,5)\n",
        "review3.add_movie_rating(moviereviews)\n",
        "review3.avg_star_ratings(moviereviews)"
      ],
      "metadata": {
        "colab": {
          "base_uri": "https://localhost:8080/"
        },
        "id": "XQd8uYNUve1D",
        "outputId": "3e3c27b2-3449-41cd-e363-ba4aaf1778ac"
      },
      "execution_count": null,
      "outputs": [
        {
          "output_type": "stream",
          "name": "stdout",
          "text": [
            "You rated the movie with **\n",
            "{'Movie Name': 'Beautiful mind', 'Story rating': 2, 'Actor Rating': 2, 'Avg Rating': 2}\n",
            "You rated the movie with ***\n",
            "{'Movie Name': 'Good life', 'Story rating': 3, 'Actor Rating': 4, 'Avg Rating': 3}\n",
            "You rated the movie with *****\n",
            "{'Movie Name': 'Smiley', 'Story rating': 5, 'Actor Rating': 5, 'Avg Rating': 5}\n"
          ]
        }
      ]
    },
    {
      "cell_type": "markdown",
      "source": [
        "Online Vs local IDE(Integrated development environment)\n",
        "\n",
        "Usability: you can run the code without internet in case of local IDE\n",
        "\n",
        "Compilation: It is much faster to run your code in local IDE\n",
        "\n",
        "Privacy: access to your project is limited to you and the ones you would like to share\n",
        "\n",
        "\n",
        "\n",
        "\n",
        "spyder IDE"
      ],
      "metadata": {
        "id": "ZHtBn1ydwRQI"
      }
    },
    {
      "cell_type": "markdown",
      "source": [
        "Assignment1:Create the logs of books and their details using object oriented programming\n",
        "\n",
        "\n",
        "Assignment 2:Write a program to create password generator using 3d arrays\n",
        "\n",
        "\n"
      ],
      "metadata": {
        "id": "IiJkM9d8-b2M"
      }
    }
  ]
}