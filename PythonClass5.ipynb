{
  "nbformat": 4,
  "nbformat_minor": 0,
  "metadata": {
    "colab": {
      "provenance": [],
      "include_colab_link": true
    },
    "kernelspec": {
      "name": "python3",
      "display_name": "Python 3"
    },
    "language_info": {
      "name": "python"
    }
  },
  "cells": [
    {
      "cell_type": "markdown",
      "metadata": {
        "id": "view-in-github",
        "colab_type": "text"
      },
      "source": [
        "<a href=\"https://colab.research.google.com/github/namitapashine/ClassRoom/blob/main/PythonClass5.ipynb\" target=\"_parent\"><img src=\"https://colab.research.google.com/assets/colab-badge.svg\" alt=\"Open In Colab\"/></a>"
      ]
    },
    {
      "cell_type": "code",
      "execution_count": null,
      "metadata": {
        "id": "waRKtkzzif7c"
      },
      "outputs": [],
      "source": []
    },
    {
      "cell_type": "markdown",
      "source": [
        "Assignment: Write a python program to print your name diagonally within the star pattern"
      ],
      "metadata": {
        "id": "fUlv7E5vilXY"
      }
    },
    {
      "cell_type": "code",
      "source": [
        "name=input(\"Enter the name: \")\n",
        "iteration=len(name)\n",
        "for i in range(0,iteration):\n",
        "  for j in range(0,iteration):\n",
        "    if(i==j):\n",
        "      print(name[j], end=\"\")\n",
        "    else:\n",
        "      print(\"*\", end=\"\")\n",
        "  print()"
      ],
      "metadata": {
        "colab": {
          "base_uri": "https://localhost:8080/"
        },
        "id": "Q9GK7YFQitER",
        "outputId": "da352f43-fcc0-4234-cf11-29b8d6632ed0"
      },
      "execution_count": null,
      "outputs": [
        {
          "output_type": "stream",
          "name": "stdout",
          "text": [
            "Enter the name: Namita\n",
            "N*****\n",
            "*a****\n",
            "**m***\n",
            "***i**\n",
            "****t*\n",
            "*****a\n"
          ]
        }
      ]
    },
    {
      "cell_type": "code",
      "source": [
        "# logic- 1 without using nested loop\n",
        "\n",
        "name = input(\"Please enter the name: \")\n",
        "length = len(name)\n",
        "for i in range(length):\n",
        "  txt = \" \" * i\n",
        "  print(txt + name[i])"
      ],
      "metadata": {
        "colab": {
          "base_uri": "https://localhost:8080/"
        },
        "id": "Qj7D-mLml3Hd",
        "outputId": "cf27fe3e-ad4d-4ac2-99d4-21aa8603f03e"
      },
      "execution_count": null,
      "outputs": [
        {
          "output_type": "stream",
          "name": "stdout",
          "text": [
            "Please enter the name: Vani\n",
            "V\n",
            " a\n",
            "  n\n",
            "   i\n"
          ]
        }
      ]
    },
    {
      "cell_type": "markdown",
      "source": [
        "Dictionary: Data type defined by key value pairs\n",
        "\n",
        "{}"
      ],
      "metadata": {
        "id": "0pdJMX80mRFx"
      }
    },
    {
      "cell_type": "code",
      "source": [
        "person= {\n",
        "  \"name\":\"Kajal\" ,\n",
        "  \"mobile\": 986757,\n",
        "  \"email\":\"xyz@gmail.com\",\n",
        "  \"address\":\"ABC\"\n",
        "\n",
        "}\n",
        "\n",
        "print(person[\"email\"])"
      ],
      "metadata": {
        "colab": {
          "base_uri": "https://localhost:8080/"
        },
        "id": "Zbqk6G94m1PH",
        "outputId": "0318c522-5a88-46a5-b671-b3201ff62c06"
      },
      "execution_count": null,
      "outputs": [
        {
          "output_type": "stream",
          "name": "stdout",
          "text": [
            "xyz@gmail.com\n"
          ]
        }
      ]
    },
    {
      "cell_type": "markdown",
      "source": [
        "Object-oriented programming:way of programming where similar properties and behaviors are grouped in form of object\n",
        "\n",
        "\n",
        "Object:collection of properties(variable/attributes) and methods(functions) to work on those properties\n",
        "\n",
        "Class:class is a blueprint for objects where all the properties and methods are created\n",
        "\n",
        "\n",
        "Class Attribute: they are properties defined in the class.Each object will have a common property defined in the class but their value might change for each object\n",
        "\n",
        "Class Methods: user defined functions in the classes, which identify the behavior and actions that an object created from class can perform with its data\n",
        "\n",
        "\n",
        "\n",
        "__init__() method:used to define the attributes in a class\n",
        "\n",
        "self:first parameter of the init function conventionally called self, along with self we can pass other parameters as well\n",
        "\n",
        "\n"
      ],
      "metadata": {
        "id": "KDAmvHvRoVbR"
      }
    },
    {
      "cell_type": "code",
      "source": [],
      "metadata": {
        "id": "ZwI_heN1sQt_"
      },
      "execution_count": null,
      "outputs": []
    },
    {
      "cell_type": "code",
      "source": [
        "#Define class\n",
        "\n",
        "class Contact_details:\n",
        "  # define attribute of class\n",
        "  def __init__(self,name,mobile_number,email, address):\n",
        "     self.contact_name=name\n",
        "     self.contact_number=mobile_number\n",
        "     self.email=email\n",
        "     self.contact_address=address\n",
        "\n",
        "\n",
        "  # define methods of the class\n",
        "\n",
        "\n",
        "     self.person= {\n",
        "        \"name\": self.contact_name,\n",
        "        \"mobile\":self.contact_number,\n",
        "        \"email\": self.email,\n",
        "        \"address\":self.contact_address\n",
        "\n",
        "        }\n",
        "\n",
        "  def view_contact_details(self,contact_list):\n",
        "    print(contact_list)\n",
        "\n",
        "\n",
        "  def add_contact_details( self,contact_list):\n",
        "    contact_list.append(self.person)\n",
        "\n",
        "\n",
        "\n",
        "phonebook_list=[]\n",
        "#create an object\n",
        "\n",
        "new_contact=Contact_details(\"jal\",898968,\"xyz@gmail\",\"delhi\")\n",
        "\n",
        "\n",
        "new_contact.add_contact_details(phonebook_list)\n",
        "\n",
        "new_contact.view_contact_details(phonebook_list)\n",
        "\n",
        "\n",
        "\n",
        "\n",
        "\n",
        "\n",
        "#new_contact=Contact_details(\"Kajal\",9886868,\"abc@gmail\",\"noida\")"
      ],
      "metadata": {
        "colab": {
          "base_uri": "https://localhost:8080/"
        },
        "id": "2-Vkri4mrnV4",
        "outputId": "4b470647-4034-487d-c4ca-98603e34bb9e"
      },
      "execution_count": null,
      "outputs": [
        {
          "output_type": "stream",
          "name": "stdout",
          "text": [
            "[{'name': 'jal', 'mobile': 898968, 'email': 'xyz@gmail', 'address': 'delhi'}]\n"
          ]
        }
      ]
    },
    {
      "cell_type": "code",
      "source": [],
      "metadata": {
        "id": "IRJ4UzPl0Tk4"
      },
      "execution_count": null,
      "outputs": []
    }
  ]
}